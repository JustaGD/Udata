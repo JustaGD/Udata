{
 "cells": [
  {
   "cell_type": "code",
   "execution_count": 1,
   "metadata": {},
   "outputs": [],
   "source": [
    "import pandas as pd\n",
    "import numpy as np\n",
    "from collections import defaultdict\n",
    "from scipy.stats import hmean\n",
    "import numbers\n",
    "from scipy.spatial.distance import cdist\n",
    "from scipy import stats\n",
    "from sklearn.linear_model import LinearRegression"
   ]
  },
  {
   "cell_type": "code",
   "execution_count": 6,
   "metadata": {},
   "outputs": [],
   "source": [
    "def drop_na(data, axis):\n",
    "    '''\n",
    "    Use axis = 0 or axis = 1\n",
    "    '''\n",
    "    rtd = []\n",
    "    ctd = []\n",
    "    for col in df.columns:\n",
    "        for i in range(len(data[col])):\n",
    "            if pd.isnull(data.loc(col,i)):\n",
    "                row.add(i)\n",
    "                cols.add(col)\n",
    "        if axis == '0':\n",
    "            df = df.drop(row, axis = 0)\n",
    "        else:\n",
    "            df = df.drop(cols, axis = 1)\n",
    "    df.index = list(range(df.shape[0]))\n",
    "    return df"
   ]
  },
  {
   "cell_type": "code",
   "execution_count": 7,
   "metadata": {},
   "outputs": [],
   "source": [
    "def fill_na(data, fill = 'mean'):\n",
    "    data = pd.DataFrame(data)\n",
    "    for col in df.columns:\n",
    "        if fill == 'mean':\n",
    "            tmp = data[col].mean()\n",
    "        if fill =='median':\n",
    "            tmp = data[col].median()\n",
    "        if fill == 'mode':\n",
    "            tmp = data[col].mode()[0]\n",
    "        for i in range(len(data[col])):\n",
    "            if pd.isnull(data.loc[i, col]):\n",
    "                data.loc[i, col] = tmp\n",
    "    return data"
   ]
  },
  {
   "cell_type": "code",
   "execution_count": 8,
   "metadata": {},
   "outputs": [],
   "source": [
    "def normal(data):\n",
    "    data = pd.DataFrame(data)\n",
    "    for col in data.columns:\n",
    "        data[col] = (data[col] - data[col].mean())/data[col].std()\n",
    "    return data\n",
    "   "
   ]
  },
  {
   "cell_type": "code",
   "execution_count": 9,
   "metadata": {},
   "outputs": [],
   "source": [
    "def scal(data):\n",
    "    \n",
    "    data = pd.DataFrame(data)\n",
    "    for col in data.columns:\n",
    "        data[col] = (data[col] - data[col].min())/(data[col].max() - data[col].min())\n",
    "    return data\n"
   ]
  },
  {
   "cell_type": "code",
   "execution_count": null,
   "metadata": {},
   "outputs": [],
   "source": []
  }
 ],
 "metadata": {
  "kernelspec": {
   "display_name": "Python 3",
   "language": "python",
   "name": "python3"
  },
  "language_info": {
   "codemirror_mode": {
    "name": "ipython",
    "version": 3
   },
   "file_extension": ".py",
   "mimetype": "text/x-python",
   "name": "python",
   "nbconvert_exporter": "python",
   "pygments_lexer": "ipython3",
   "version": "3.6.5"
  }
 },
 "nbformat": 4,
 "nbformat_minor": 2
}
